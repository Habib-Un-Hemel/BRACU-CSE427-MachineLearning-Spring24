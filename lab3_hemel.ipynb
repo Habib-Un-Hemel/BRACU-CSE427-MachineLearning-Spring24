{
  "nbformat": 4,
  "nbformat_minor": 0,
  "metadata": {
    "colab": {
      "provenance": []
    },
    "kernelspec": {
      "name": "python3",
      "display_name": "Python 3"
    },
    "language_info": {
      "name": "python"
    }
  },
  "cells": [
    {
      "cell_type": "code",
      "execution_count": null,
      "metadata": {
        "id": "6KXuj72_NCjy"
      },
      "outputs": [],
      "source": [
        "# Importing libraries\n",
        "\n",
        "import numpy as np\n",
        "import pandas as pd\n",
        "import matplotlib.pyplot as plt\n",
        "\n",
        "from sklearn.model_selection import train_test_split\n",
        "from sklearn.linear_model import LinearRegression,Ridge,Lasso,ElasticNet\n",
        "from sklearn.model_selection import train_test_split\n",
        "from sklearn.metrics import r2_score\n",
        "\n",
        "# ignore the warning messages\n",
        "import warnings\n",
        "warnings.filterwarnings('ignore')"
      ]
    },
    {
      "cell_type": "markdown",
      "source": [
        "#Exploratory Data Analysis (EDA)\n",
        "\n",
        "**Salary Dataset**\n",
        "- **YearsExperience:** Employee's years of experience.\n",
        "- **Salary [Target Column]:** Salary in terms of years of experience.\n",
        "\n",
        "\n"
      ],
      "metadata": {
        "id": "JhAolZaRNQgh"
      }
    },
    {
      "cell_type": "code",
      "source": [
        "# Importing dataset\n",
        "file_link = 'https://drive.google.com/file/d/1z_7EFfGJ42o0JCklJz0K77NTzPa-QynQ/view?usp=sharing'\n",
        "\n",
        "# get the id part of the file\n",
        "id = file_link.split(\"/\")[-2]\n",
        "\n",
        "# creating a new link using the id for better readability of csv file in pandas\n",
        "new_link = f'https://drive.google.com/uc?id={id}'\n",
        "df = pd.read_csv(new_link)\n",
        "\n",
        "\n",
        "X = df.iloc[:,:-1].values\n",
        "Y = df.iloc[:,1].values\n",
        "\n",
        "# Splitting dataset into train and test set\n",
        "\n",
        "X_train, X_test, y_train, y_test = train_test_split( X, Y, test_size = 1/3, random_state = 2 )\n",
        "\n",
        "\n",
        "# Linear Regression\n",
        "reg = LinearRegression()\n",
        "reg.fit(X_train,y_train)\n",
        "y_pred = reg.predict(X_test)\n",
        "print(r2_score(y_test,y_pred))\n",
        "\n",
        "# Ridge\n",
        "#alpha = L2 regularization (squared value), alpha  is not 0\n",
        "reg = Ridge(alpha=0.1)\n",
        "reg.fit(X_train,y_train)\n",
        "y_pred = reg.predict(X_test)\n",
        "print(r2_score(y_test,y_pred))\n",
        "\n",
        "# Lasso\n",
        "#alpha = L1 regularization (absolute value)\n",
        "reg = Lasso(alpha=0.01)\n",
        "reg.fit(X_train,y_train)\n",
        "y_pred = reg.predict(X_test)\n",
        "print(r2_score(y_test,y_pred))\n",
        "\n",
        "# ElasticNet\n",
        "#alpha = mult, l1_ratio = sum or combination\n",
        "reg = ElasticNet(alpha=0.01,l1_ratio=0.9)\n",
        "reg.fit(X_train,y_train)\n",
        "y_pred = reg.predict(X_test)\n",
        "print(r2_score(y_test,y_pred))\n",
        "\n"
      ],
      "metadata": {
        "colab": {
          "base_uri": "https://localhost:8080/"
        },
        "id": "w1JBuTAQOEg6",
        "outputId": "bb8b5606-f2ad-4830-d80f-2c5f9c412429"
      },
      "execution_count": null,
      "outputs": [
        {
          "output_type": "stream",
          "name": "stdout",
          "text": [
            "0.9041801644162628\n",
            "0.9042534117787511\n",
            "0.9041801799163933\n",
            "0.904194904373961\n"
          ]
        }
      ]
    },
    {
      "cell_type": "code",
      "source": [],
      "metadata": {
        "id": "Ug-kYK-Ts09M"
      },
      "execution_count": null,
      "outputs": []
    },
    {
      "cell_type": "markdown",
      "source": [],
      "metadata": {
        "id": "5OCY4XN8s0Zk"
      }
    },
    {
      "cell_type": "code",
      "source": [],
      "metadata": {
        "id": "cDY37CZWs0K9"
      },
      "execution_count": null,
      "outputs": []
    },
    {
      "cell_type": "code",
      "source": [
        "# Elastic Net Regression\n",
        "class ElasticRegression():\n",
        "    def __init__(self,learning_rate,iterations,l1_penality,l2_penality ) :\n",
        "        self.learning_rate = learning_rate\n",
        "        self.iterations = iterations\n",
        "        self.l1_penality = l1_penality\n",
        "        self.l2_penality = l2_penality\n",
        "\n",
        "\n",
        "    # Function for model training\n",
        "    def fit(self,X,Y) :\n",
        "        # no_of_training_examples, no_of_features\n",
        "        self.m, self.n = X.shape\n",
        "        # weight initialization\n",
        "        self.W = np.zeros( self.n )\n",
        "        self.b = 0\n",
        "        self.X = X\n",
        "        self.Y = Y\n",
        "\n",
        "# _______________\n",
        "        self.b = np.mean(self.Y)\n",
        "\n",
        "\n",
        "        for i in range(self.iterations):\n",
        "          self.update_weights()\n",
        "\n",
        "    # Helper function to update weights in gradient=\n",
        "    def update_weights( self ):\n",
        "        Y_pred = self.predict( self.X )\n",
        "        # calculate gradients\n",
        "        rsdls= Y_pred - self.Y\n",
        "        dW = np.zeros( self.n )\n",
        "        db= np.mean(rsdls)\n",
        "        # write necessary loop and conditions to calculate gradients\n",
        "        dW = np.dot(self.X.T, rsdls)/self.n\n",
        "        self.W -= self.learning_rate*(dW + self.l1_penality*np.sign(self.W) + self.l2_penality*self.W/self.m)\n",
        "        self.b -= self.learning_rate * db\n",
        "\n",
        "        return\n",
        "\n",
        "\n",
        "    # Hypothetical function  h( x )\n",
        "\n",
        "    def predict( self,X ) :\n",
        "        return X.dot( self.W)+self.b\n",
        "\n",
        "# Model training\n",
        "model = ElasticRegression( iterations = 10000,  learning_rate = 0.001, l1_penality = 1, l2_penality = 1 )\n",
        "model.fit( X_train, y_train )\n",
        "# Prediction on test set\n",
        "Y_pred = model.predict( X_test )\n",
        "\n",
        "print( \"Predicted values \", np.round( Y_pred[:3], 2 ) )\n",
        "\n",
        "print( \"Real values      \", y_test[:3] )\n",
        "\n",
        "print( \"Trained W        \", round( model.W[0], 2 ) )\n",
        "\n",
        "print( \"Trained b        \", round( model.b, 2 ) )\n",
        "\n",
        "# Visualization on test set\n",
        "\n",
        "plt.scatter( X_test, y_test, color = 'blue' )\n",
        "\n",
        "plt.plot( X_test, Y_pred, color = 'orange' )\n",
        "\n",
        "plt.title( 'Salary vs Experience' )\n",
        "\n",
        "plt.xlabel( 'Years of Experience' )\n",
        "\n",
        "plt.ylabel( 'Salary' )\n",
        "\n",
        "plt.show()"
      ],
      "metadata": {
        "colab": {
          "base_uri": "https://localhost:8080/",
          "height": 543
        },
        "id": "7gihQyGKUt3q",
        "outputId": "9423dc5f-ae9d-492b-9f92-9458f5f5566f"
      },
      "execution_count": null,
      "outputs": [
        {
          "output_type": "stream",
          "name": "stdout",
          "text": [
            "Predicted values  [42550.03 40867.86 69464.67]\n",
            "Real values       [46205. 39343. 61111.]\n",
            "Trained W         8410.83\n",
            "Trained b         31615.96\n"
          ]
        },
        {
          "output_type": "display_data",
          "data": {
            "text/plain": [
              "<Figure size 640x480 with 1 Axes>"
            ],
            "image/png": "[encoded data removed]"
          },
          "metadata": {}
        }
      ]
    }
  ]
}